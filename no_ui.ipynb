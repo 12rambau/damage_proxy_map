{
 "cells": [
  {
   "cell_type": "code",
   "execution_count": 1,
   "metadata": {},
   "outputs": [
    {
     "data": {
      "application/vnd.jupyter.widget-view+json": {
       "model_id": "9c970c61e62d48b0bd39bb99d84dd8e6",
       "version_major": 2,
       "version_minor": 0
      },
      "text/plain": [
       "HTML(value='\\n<style>\\n.leaflet-pane {\\n    z-index : 2 !important;\\n}\\n.leaflet-top, .leaflet-bottom {\\n    z…"
      ]
     },
     "metadata": {},
     "output_type": "display_data"
    },
    {
     "data": {
      "application/vnd.jupyter.widget-view+json": {
       "model_id": "2e16683e2b5a4769a47a9f9a4683afab",
       "version_major": 2,
       "version_minor": 0
      },
      "text/plain": [
       "ResizeTrigger()"
      ]
     },
     "metadata": {},
     "output_type": "display_data"
    }
   ],
   "source": [
    "%run 'about_ui.ipynb'\n",
    "%run 'process_ui.ipynb'"
   ]
  },
  {
   "cell_type": "code",
   "execution_count": 2,
   "metadata": {},
   "outputs": [
    {
     "data": {
      "application/vnd.jupyter.widget-view+json": {
       "model_id": "8d534b244b754b7987a85e403c1463a0",
       "version_major": 2,
       "version_minor": 0
      },
      "text/plain": [
       "DmpTile(align_center=True, children=[Card(children=[Html(children=['Damage Proxy Map - Inputs'], tag='h2'), Fl…"
      ]
     },
     "metadata": {},
     "output_type": "display_data"
    }
   ],
   "source": [
    "process_tile"
   ]
  },
  {
   "cell_type": "code",
   "execution_count": 15,
   "metadata": {},
   "outputs": [
    {
     "name": "stdout",
     "output_type": "stream",
     "text": [
      "/ram/zipped\n",
      "/ram/zipped/0\n",
      "/ram/zipped/0/0\n"
     ]
    }
   ],
   "source": [
    "import gdal, os\n",
    "from zipfile import ZipFile\n",
    "from pathlib import Path\n",
    "\n",
    "tmp_dir = Path('/ram')\n",
    "# kmz and dmp output\n",
    "# write a color file to tmp\n",
    "ctfile = tmp_dir.joinpath('colourtable.txt')\n",
    "f = open(ctfile, \"w\")\n",
    "ct = [\"0 0 0 0 0\\n\"\n",
    "    \"27 253 246 50 255\\n\"\n",
    "    \"35 253 169 50 255\\n\"\n",
    "    \"43 253 100 50 255\\n\"\n",
    "    \"51 253 50 50 255\\n\"\n",
    "    \"59 255 10 10 255\\n\"\n",
    "    \"255 253 0 0 255\"\n",
    "    ]\n",
    "f.writelines(ct)\n",
    "f.close()\n",
    "\n",
    "\n",
    "out_dmp_tif = Path('/home/vollrath/test_dpm/Damage_Proxy_Map/dmp_A121_201029_201110_201122.tif')\n",
    "#demopts = gdal.DEMProcessingOptions(colorFilename=str(ctfile), addAlpha=True)\n",
    "#gdal.DEMProcessing(str(out_dmp_tif), str(out_ds_tif), 'color-relief', options=demopts)         \n",
    "\n",
    "opts = gdal.TranslateOptions(format='KMLSUPEROVERLAY', creationOptions=[\"format=png\"])\n",
    "gdal.Translate(str(out_dmp_tif.with_suffix('.kmz')), str(out_dmp_tif), options=opts)\n",
    "\n",
    "### adding legend like this to KMZ\n",
    "added = [\n",
    "    \"\\t\\t<ScreenOverlay>\\n\",\n",
    "    \"\\t\\t\\t<name>\\n\",\n",
    "    \"Legend: Damage Proxy Map\\n\",\n",
    "    \"\\t\\t\\t</name>\\n\",\n",
    "    \"\\t\\t\\t<Icon>\\n\",\n",
    "    \"\\t\\t\\t\\t<href>https://raw.githubusercontent.com/12rambau/damage_proxy_map/refactoring/component/message/legend.png</href>\\n\",\n",
    "    \"\\t\\t\\t</Icon>\\n\",\n",
    "    '\\t\\t\\t<overlayXY x=\"0.98\" y=\"0.14\" xunits=\"fraction\" yunits=\"fraction\"/>\\n',\n",
    "    '\\t\\t\\t<screenXY x=\"0.98\" y=\"0.14\" xunits=\"fraction\" yunits=\"fraction\"/>\\n',\n",
    "    '\\t\\t\\t<rotationXY x=\"0.5\" y=\"0.5\" xunits=\"fraction\" yunits=\"fraction\"/>\\n',\n",
    "    '\\t\\t\\t<size x=\"0.1\" y=\"0.265\" xunits=\"fraction\" yunits=\"fraction\"/>\\n',\n",
    "    \"\\t\\t</ScreenOverlay>\\n\",\n",
    "    \"\\t</Document>\\n\",\n",
    "    \"</kml>\\n\"   \n",
    "]\n",
    "tmpzip = tmp_dir.joinpath('zipped')\n",
    "tmpzip.mkdir(parents=True, exist_ok=True)\n",
    "\n",
    "with ZipFile(out_dmp_tif.with_suffix('.kmz')) as zip_ref:\n",
    "    zip_ref.extractall(tmpzip)\n",
    "    with open(tmpzip.joinpath('doc.kml')) as f:\n",
    "\n",
    "        lines = f.readlines()\n",
    "        lines = lines[:-2]\n",
    "        lines.extend(added)\n",
    "\n",
    "    with open(tmpzip.joinpath('doc.kml'), 'w') as f:\n",
    "        for ele in lines:\n",
    "            f.write(ele)\n",
    "\n",
    "with ZipFile(out_dmp_tif.with_suffix('.kmz'), 'w') as zip_ref:\n",
    "    # Iterate over all the files in directory\n",
    "    for folderName, subfolders, filenames in os.walk(tmpzip):\n",
    "        print(folderName)\n",
    "        for filename in filenames:\n",
    "            #create complete filepath of file in directory\n",
    "            filePath = os.path.join(folderName, filename)\n",
    "            #print(filePath)\n",
    "            # Add file to zip\n",
    "            zip_ref.write(filePath, os.path.join('/0/0/', os.path.basename(filePath)))"
   ]
  },
  {
   "cell_type": "code",
   "execution_count": 16,
   "metadata": {},
   "outputs": [
    {
     "name": "stdout",
     "output_type": "stream",
     "text": [
      "Archive:  /home/vollrath/test_dpm/Damage_Proxy_Map/dmp_A121_201029_201110_201122.kmz\n",
      " extracting: /home/vollrath/kmz/0/0/doc.kml  \n",
      " extracting: /home/vollrath/kmz/0/0/0.kml  \n",
      " extracting: /home/vollrath/kmz/0/0/0.png  \n"
     ]
    }
   ],
   "source": [
    "!unzip '/home/vollrath/test_dpm/Damage_Proxy_Map/dmp_A121_201029_201110_201122.kmz' -d '/home/vollrath/kmz'"
   ]
  },
  {
   "cell_type": "code",
   "execution_count": null,
   "metadata": {},
   "outputs": [],
   "source": []
  }
 ],
 "metadata": {
  "kernelspec": {
   "display_name": "Python 3",
   "language": "python",
   "name": "python3"
  },
  "language_info": {
   "codemirror_mode": {
    "name": "ipython",
    "version": 3
   },
   "file_extension": ".py",
   "mimetype": "text/x-python",
   "name": "python",
   "nbconvert_exporter": "python",
   "pygments_lexer": "ipython3",
   "version": "3.6.9"
  }
 },
 "nbformat": 4,
 "nbformat_minor": 4
}
